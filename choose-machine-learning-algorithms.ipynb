{
 "cells": [
  {
   "cell_type": "markdown",
   "metadata": {},
   "source": [
    "# IMPORTER LES LIBRAIRIES"
   ]
  },
  {
   "cell_type": "code",
   "execution_count": 1,
   "metadata": {},
   "outputs": [],
   "source": [
    "# Importer les librairies Pandas\n",
    "import pandas as pd\n",
    "import numpy as np\n",
    "\n",
    "# Importer les librairies pour la visualisation\n",
    "# seaborn = librairies pour data visualisation\n",
    "import seaborn as sns\n",
    "\n",
    "# Dépendances necessaires pour seaborn\n",
    "# 1/ La librairie pyplot de matplotlib\n",
    "import matplotlib.pyplot as plt\n",
    "from matplotlib.pylab import rcParams\n",
    "\n",
    "# Fonction spéciale de Jupyter pour afficher les plots sur Jupyter Notebook\n",
    "%matplotlib inline\n",
    "\n",
    "# Importer stats de la librairie Scipy\n",
    "from scipy import stats\n",
    "# Importer la fonction 'norm' de la librairie Scipy.stats\n",
    "from scipy.stats import norm\n",
    "\n",
    "# Importer la fonction StandardScaler de sklearn.preprocessing\n",
    "from sklearn.preprocessing import StandardScaler\n",
    "\n",
    "# Gérer les warnings\n",
    "import warnings\n",
    "warnings.filterwarnings('ignore')"
   ]
  },
  {
   "cell_type": "markdown",
   "metadata": {},
   "source": [
    "# IMPORTER LES DONNÉES"
   ]
  },
  {
   "cell_type": "code",
   "execution_count": 2,
   "metadata": {},
   "outputs": [],
   "source": [
    "# Importer les données\n",
    "# index_col=0, veut dire que la première colonne et l'index des colonne\n",
    "# Si on ne le met pas Pandas va ajouter un index au dataframe (= valeur incrementiel)\n",
    "df = pd.read_csv(\"dataset/diabetes.csv\", index_col=0, encoding=\"latin-1\")"
   ]
  },
  {
   "cell_type": "markdown",
   "metadata": {},
   "source": [
    "# AFFICHER LES INFORMATIONS"
   ]
  },
  {
   "cell_type": "code",
   "execution_count": 39,
   "metadata": {},
   "outputs": [
    {
     "name": "stdout",
     "output_type": "stream",
     "text": [
      "\n",
      "------------------ Head -------------------\n",
      "             Glucose  BloodPressure  SkinThickness  Insulin   BMI  \\\n",
      "Pregnancies                                                         \n",
      "6                148             72             35        0  33.6   \n",
      "1                 85             66             29        0  26.6   \n",
      "8                183             64              0        0  23.3   \n",
      "1                 89             66             23       94  28.1   \n",
      "0                137             40             35      168  43.1   \n",
      "\n",
      "             DiabetesPedigreeFunction  Age  Outcome  \n",
      "Pregnancies                                          \n",
      "6                               0.627   50        1  \n",
      "1                               0.351   31        0  \n",
      "8                               0.672   32        1  \n",
      "1                               0.167   21        0  \n",
      "0                               2.288   33        1  \n",
      "\n",
      "------------------ Info -------------------\n",
      "<class 'pandas.core.frame.DataFrame'>\n",
      "Int64Index: 768 entries, 6 to 1\n",
      "Data columns (total 8 columns):\n",
      "Glucose                     768 non-null int64\n",
      "BloodPressure               768 non-null int64\n",
      "SkinThickness               768 non-null int64\n",
      "Insulin                     768 non-null int64\n",
      "BMI                         768 non-null float64\n",
      "DiabetesPedigreeFunction    768 non-null float64\n",
      "Age                         768 non-null int64\n",
      "Outcome                     768 non-null int64\n",
      "dtypes: float64(2), int64(6)\n",
      "memory usage: 74.0 KB\n",
      "None\n",
      "\n",
      "---------------- Describe -----------------\n",
      "          Glucose  BloodPressure  SkinThickness     Insulin         BMI  \\\n",
      "count  768.000000     768.000000     768.000000  768.000000  768.000000   \n",
      "mean   120.894531      69.105469      20.536458   79.799479   31.992578   \n",
      "std     31.972618      19.355807      15.952218  115.244002    7.884160   \n",
      "min      0.000000       0.000000       0.000000    0.000000    0.000000   \n",
      "25%     99.000000      62.000000       0.000000    0.000000   27.300000   \n",
      "50%    117.000000      72.000000      23.000000   30.500000   32.000000   \n",
      "75%    140.250000      80.000000      32.000000  127.250000   36.600000   \n",
      "max    199.000000     122.000000      99.000000  846.000000   67.100000   \n",
      "\n",
      "       DiabetesPedigreeFunction         Age     Outcome  \n",
      "count                768.000000  768.000000  768.000000  \n",
      "mean                   0.471876   33.240885    0.348958  \n",
      "std                    0.331329   11.760232    0.476951  \n",
      "min                    0.078000   21.000000    0.000000  \n",
      "25%                    0.243750   24.000000    0.000000  \n",
      "50%                    0.372500   29.000000    0.000000  \n",
      "75%                    0.626250   41.000000    1.000000  \n",
      "max                    2.420000   81.000000    1.000000  \n"
     ]
    }
   ],
   "source": [
    "# Afficher les (5) premières lignes du DataFrame\n",
    "print(\"\\n------------------ Head -------------------\")\n",
    "print (df.head())\n",
    "\n",
    "# Afficher les infos du DataFrame\n",
    "print(\"\\n------------------ Info -------------------\")\n",
    "print (df.info())\n",
    "\n",
    "# Afficher les infos statistiques du DataFrame\n",
    "print(\"\\n---------------- Describe -----------------\")\n",
    "print (df.describe())"
   ]
  },
  {
   "cell_type": "code",
   "execution_count": 8,
   "metadata": {},
   "outputs": [
    {
     "name": "stdout",
     "output_type": "stream",
     "text": [
      "count    768.000000\n",
      "mean      69.105469\n",
      "std       19.355807\n",
      "min        0.000000\n",
      "25%       62.000000\n",
      "50%       72.000000\n",
      "75%       80.000000\n",
      "max      122.000000\n",
      "Name: BloodPressure, dtype: float64\n"
     ]
    }
   ],
   "source": [
    "# Afficher les infos statistiques d'une feature\n",
    "print (df['BloodPressure'].describe())"
   ]
  },
  {
   "cell_type": "code",
   "execution_count": 40,
   "metadata": {},
   "outputs": [
    {
     "name": "stdout",
     "output_type": "stream",
     "text": [
      "\n",
      "----------------- Pearson -----------------\n",
      "BloodPressure :  0.06506835955033283\n",
      "Glucose :  0.466581398306874\n",
      "SkinThickness :  0.07475223191831938\n",
      "Insulin :  0.13054795488404766\n",
      "BMI :  0.2926946626444455\n",
      "DiabetesPedigreeFunction :  0.17384406565296004\n"
     ]
    }
   ],
   "source": [
    "# Verifier la correlation entre chaque features\n",
    "\n",
    "# pearson : standard correlation coefficient\n",
    "# print (\"\\n----------------- Pearson -----------------\")\n",
    "# print (df.corr(method='pearson'))\n",
    "\n",
    "print (\"\\n----------------- Pearson -----------------\")\n",
    "print (\"BloodPressure : \", df['BloodPressure'].corr(df['Outcome'], method='pearson'))\n",
    "print (\"Glucose : \", df['Glucose'].corr(df['Outcome'], method='pearson'))\n",
    "print (\"SkinThickness : \", df['SkinThickness'].corr(df['Outcome'], method='pearson'))\n",
    "print (\"Insulin : \", df['Insulin'].corr(df['Outcome'], method='pearson'))\n",
    "print (\"BMI : \", df['BMI'].corr(df['Outcome'], method='pearson'))\n",
    "print (\"DiabetesPedigreeFunction : \", df['DiabetesPedigreeFunction'].corr(df['Outcome'], method='pearson'))\n",
    "\n",
    "# kendall : Kendall Tau correlation coefficient\n",
    "# print (\"\\n----------------- Kendall -----------------\")\n",
    "# print (df.corr(method='kendall'))\n",
    "\n",
    "# spearman : Spearman rank correlation\n",
    "# print (\"\\n---------------- Spearman------------------\")\n",
    "# print (df.corr(method='spearman'))"
   ]
  },
  {
   "cell_type": "code",
   "execution_count": 28,
   "metadata": {},
   "outputs": [
    {
     "name": "stdout",
     "output_type": "stream",
     "text": [
      "\n",
      "--------------- Distribution --------------\n",
      "\n",
      "0    500\n",
      "1    268\n",
      "Name: Outcome, dtype: int64\n",
      "\n",
      "------------- % Distribution --------------\n",
      "\n",
      "0    0.651042\n",
      "1    0.348958\n",
      "Name: Outcome, dtype: float64\n"
     ]
    }
   ],
   "source": [
    "# Afficher la distribution d'une feature\n",
    "print(\"\\n--------------- Distribution --------------\")\n",
    "print (df['Outcome'].value_counts())\n",
    "print(\"\\n------------- % Distribution --------------\")\n",
    "print (df['Outcome'].value_counts()/len(df))"
   ]
  },
  {
   "cell_type": "code",
   "execution_count": 35,
   "metadata": {},
   "outputs": [
    {
     "name": "stdout",
     "output_type": "stream",
     "text": [
      "Glucose                       int64\n",
      "BloodPressure                 int64\n",
      "SkinThickness                 int64\n",
      "Insulin                       int64\n",
      "BMI                         float64\n",
      "DiabetesPedigreeFunction    float64\n",
      "Age                           int64\n",
      "Outcome                       int64\n",
      "dtype: object\n"
     ]
    }
   ],
   "source": [
    "# Afficher le types de données par features\n",
    "print (df.dtypes)"
   ]
  },
  {
   "cell_type": "markdown",
   "metadata": {},
   "source": [
    "# SPILITTER LE DATAFRAME"
   ]
  },
  {
   "cell_type": "code",
   "execution_count": null,
   "metadata": {},
   "outputs": [],
   "source": [
    "from sklearn.cross_validation import train_test_split\n",
    "X_train,X_test,Y_train,Y_test = train_test_split(X, Y, test_size = 0.2, random_state = 0)"
   ]
  },
  {
   "cell_type": "markdown",
   "metadata": {},
   "source": [
    "# VISUALISER LES DONNÉES"
   ]
  },
  {
   "cell_type": "markdown",
   "metadata": {},
   "source": [
    "## HISTOGRAMME UNIVARIÉ"
   ]
  },
  {
   "cell_type": "code",
   "execution_count": 29,
   "metadata": {},
   "outputs": [
    {
     "name": "stdout",
     "output_type": "stream",
     "text": [
      "\n",
      "-------- Distribution de 'Outcome' -------\n",
      "\n"
     ]
    },
    {
     "data": {
      "text/plain": [
       "Text(0.5,1,\"Distribution de 'Outcome'\")"
      ]
     },
     "execution_count": 29,
     "metadata": {},
     "output_type": "execute_result"
    },
    {
     "data": {
      "image/png": "[encoded data removed]",
      "text/plain": [
       "<Figure size 432x288 with 1 Axes>"
      ]
     },
     "metadata": {
      "needs_background": "light"
     },
     "output_type": "display_data"
    }
   ],
   "source": [
    "# Afficher le graph de distribution des données d'une feature\n",
    "# Affichage défini sur y\n",
    "# Pour un affichage sur x => x = 'Outcome'\n",
    "print(\"\\n-------- Distribution de 'Outcome' -------\")\n",
    "sns.countplot(y='Outcome', data=df,\n",
    "                  palette=\"Set1\")\n",
    "plt.title(\"Distribution de 'Outcome'\")"
   ]
  },
  {
   "cell_type": "code",
   "execution_count": 34,
   "metadata": {},
   "outputs": [
    {
     "data": {
      "image/png": "[encoded data removed]",
      "text/plain": [
       "<Figure size 648x576 with 1 Axes>"
      ]
     },
     "metadata": {
      "needs_background": "light"
     },
     "output_type": "display_data"
    }
   ],
   "source": [
    "# Afficher le graphique de la distribution d'une feature\n",
    "plt.figure(figsize=(9, 8))\n",
    "sns.distplot(df['Insulin'], color='g', bins=100, hist_kws={'alpha': 0.4});"
   ]
  },
  {
   "cell_type": "code",
   "execution_count": 41,
   "metadata": {},
   "outputs": [
    {
     "data": {
      "image/png": "[encoded data removed]",
      "text/plain": [
       "<Figure size 648x576 with 1 Axes>"
      ]
     },
     "metadata": {
      "needs_background": "light"
     },
     "output_type": "display_data"
    }
   ],
   "source": [
    "# Afficher le graphique de la distribution d'une feature\n",
    "plt.figure(figsize=(9, 8))\n",
    "sns.distplot(df['BloodPressure'], color='g', bins=100, hist_kws={'alpha': 0.4});"
   ]
  },
  {
   "cell_type": "code",
   "execution_count": 24,
   "metadata": {},
   "outputs": [
    {
     "name": "stdout",
     "output_type": "stream",
     "text": [
      "\n",
      "-------- Distribution de 'Outcome' -------\n",
      "------- en fonction de 'BloodPressure' ----------\n",
      "\n"
     ]
    },
    {
     "data": {
      "text/plain": [
       "Text(0.5,1,\"Distribution de 'Survived' en fonction de 'BloodPressure'\")"
      ]
     },
     "execution_count": 24,
     "metadata": {},
     "output_type": "execute_result"
    },
    {
     "data": {
      "image/png": "[encoded data removed]",
      "text/plain": [
       "<Figure size 432x288 with 1 Axes>"
      ]
     },
     "metadata": {
      "needs_background": "light"
     },
     "output_type": "display_data"
    }
   ],
   "source": [
    "# Afficher le graph des données de la colonne 'Sex' (y=) en fonction de 'Survived' (hue=) \n",
    "# Utiliser la palette 'c_palette' définie plus haut\n",
    "# Affichage défini sur y\n",
    "# Pour un affichage sur x => x = 'Sex'\n",
    "print(\"\\n-------- Distribution de 'Outcome' -------\")\n",
    "print(\"------ en fonction de 'BloodPressure' ------\")\n",
    "sns.countplot(y='BloodPressure', hue='Outcome', data=df,\n",
    "                  palette=\"Set1\")\n",
    "plt.title(\"Distribution de 'Survived' en fonction de 'BloodPressure'\")"
   ]
  },
  {
   "cell_type": "markdown",
   "metadata": {},
   "source": [
    "##  BOX PLOT"
   ]
  },
  {
   "cell_type": "code",
   "execution_count": 33,
   "metadata": {},
   "outputs": [
    {
     "name": "stdout",
     "output_type": "stream",
     "text": [
      "\n",
      "-------------- Boxplot de 'Insulin' --------------\n",
      "En ajoutant le points en dehors de la Boxplot (swarmplot())\n",
      "\n"
     ]
    },
    {
     "data": {
      "text/plain": [
       "<matplotlib.axes._subplots.AxesSubplot at 0x1a21b76240>"
      ]
     },
     "execution_count": 33,
     "metadata": {},
     "output_type": "execute_result"
    },
    {
     "data": {
      "image/png": "[encoded data removed]",
      "text/plain": [
       "<Figure size 432x288 with 1 Axes>"
      ]
     },
     "metadata": {
      "needs_background": "light"
     },
     "output_type": "display_data"
    }
   ],
   "source": [
    "# Afficher le BOX PLOT des données de la colonne 'Age' (y=) \n",
    "print(\"\\n-------------- Boxplot de 'Insulin' --------------\")\n",
    "print(\"En ajoutant le points en dehors de la Boxplot (swarmplot())\\n\")\n",
    "sns.boxplot(y='Insulin', data=df,\n",
    "                palette='colorblind', ax=None, order=None) \n",
    "# Ajouter swarmplot\n",
    "# Draw a categorical scatterplot with non-overlapping points.\n",
    "# sns.swarmplot(y='BloodPressure', data=df, palette='colorblind', ax=None, order=None)"
   ]
  },
  {
   "cell_type": "markdown",
   "metadata": {},
   "source": [
    "# NETTOYER LES DONNÉES"
   ]
  },
  {
   "cell_type": "code",
   "execution_count": 38,
   "metadata": {},
   "outputs": [
    {
     "name": "stdout",
     "output_type": "stream",
     "text": [
      "\n",
      "------------ Valeurs manquantes -----------\n",
      "Glucose                     False\n",
      "BloodPressure               False\n",
      "SkinThickness               False\n",
      "Insulin                     False\n",
      "BMI                         False\n",
      "DiabetesPedigreeFunction    False\n",
      "Age                         False\n",
      "Outcome                     False\n",
      "dtype: bool\n",
      "\n",
      "------------ Valeurs manquantes -----------\n",
      "Outcome                     0.0\n",
      "Age                         0.0\n",
      "DiabetesPedigreeFunction    0.0\n",
      "BMI                         0.0\n",
      "Insulin                     0.0\n",
      "SkinThickness               0.0\n",
      "BloodPressure               0.0\n",
      "Glucose                     0.0\n",
      "dtype: float64\n"
     ]
    }
   ],
   "source": [
    "# Verifier si il y a des valeurs nulles\n",
    "print(\"\\n------------ Valeurs manquantes -----------\")\n",
    "print (df.isnull().any())\n",
    "\n",
    "print(\"\\n------------ Valeurs manquantes -----------\")\n",
    "print (df.isnull().mean().sort_values(ascending=False)*100)"
   ]
  },
  {
   "cell_type": "code",
   "execution_count": null,
   "metadata": {},
   "outputs": [],
   "source": []
  },
  {
   "cell_type": "code",
   "execution_count": null,
   "metadata": {},
   "outputs": [],
   "source": [
    "# Faire une copy pour travailler dessus\n",
    "training_df = df.copy()"
   ]
  },
  {
   "cell_type": "code",
   "execution_count": null,
   "metadata": {},
   "outputs": [],
   "source": []
  },
  {
   "cell_type": "code",
   "execution_count": null,
   "metadata": {},
   "outputs": [],
   "source": []
  }
 ],
 "metadata": {
  "kernelspec": {
   "display_name": "Python 3",
   "language": "python",
   "name": "python3"
  },
  "language_info": {
   "codemirror_mode": {
    "name": "ipython",
    "version": 3
   },
   "file_extension": ".py",
   "mimetype": "text/x-python",
   "name": "python",
   "nbconvert_exporter": "python",
   "pygments_lexer": "ipython3",
   "version": "3.7.0"
  }
 },
 "nbformat": 4,
 "nbformat_minor": 2
}
